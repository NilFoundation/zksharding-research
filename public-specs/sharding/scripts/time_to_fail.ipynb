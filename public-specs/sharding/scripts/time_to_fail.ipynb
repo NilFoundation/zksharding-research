{
 "cells": [
  {
   "cell_type": "code",
   "execution_count": 1,
   "metadata": {},
   "outputs": [],
   "source": [
    "import numpy as np\n",
    "from scipy.special import gammaln, binom\n",
    "import plotly.graph_objects as go\n",
    "import math\n",
    "import matplotlib.pyplot as plt"
   ]
  },
  {
   "cell_type": "markdown",
   "metadata": {},
   "source": [
    "- $N$ - total nodes\n",
    "- $F$ - max fraction of faulty nodes in the network\n",
    "- $t = n \\cdot F$ - total faulty nodes\n",
    "- $n$ - shard size\n",
    "- $f$ - max fraction of faulty nodes in a shard\n",
    "- $X$ - number of faulty nodes in a shard\n",
    "- Committees do not intersect with each other\n",
    "- Assignment of nodes to shards is changed once every hour\n",
    "\n",
    "\n",
    "$$\n",
    "p_{\\texttt{local\\_fail}} \\coloneqq\n",
    "\\mathbb{P}\\left(X \\geq\\lceil n \\cdot f \\rceil \\right) =\n",
    "\\sum_{x=\\lceil n \\cdot f \\rceil}^n\n",
    "\\frac{\\binom{t}{x} \\binom{N-t}{n-x}}{\\binom{N}{n}}\n",
    "$$\n",
    "\n",
    "$$\n",
    "p_{\\texttt{fail}} < \\left\\lceil \\frac{N}{n} \\right\\rceil p_{\\texttt{local\\_fail}}\n",
    "$$\n",
    "\n",
    "$$\n",
    "\\text{expected time to fail} = \\frac{1}{p_{\\texttt{fail}}}\n",
    "$$"
   ]
  },
  {
   "cell_type": "code",
   "execution_count": 2,
   "metadata": {},
   "outputs": [
    {
     "data": {
      "text/plain": [
       "(4.136636628669624e-08, 4.136636628670898e-08)"
      ]
     },
     "execution_count": 2,
     "metadata": {},
     "output_type": "execute_result"
    }
   ],
   "source": [
    "def committee_fail(total_size, shard_size, total_faulty=1/3, shard_faulty=1/2):\n",
    "    sum = 0\n",
    "    faulty_shard_size = int(shard_size * shard_faulty)\n",
    "    faulty_size = int(total_size * total_faulty)\n",
    "\n",
    "    for x in range(faulty_shard_size, shard_size + 1):\n",
    "        term = binom(faulty_size, x) * binom(total_size - faulty_size, shard_size - x)\n",
    "        sum += term\n",
    "\n",
    "    return sum / binom(total_size, shard_size)\n",
    "\n",
    "def two_committee_fail(total_size, shard_size, total_faulty=1/3, shard_faulty=1/2):\n",
    "    sum = 0\n",
    "    faulty_shard_size = int(shard_size * shard_faulty)\n",
    "    faulty_size = int(total_size * total_faulty)\n",
    "\n",
    "    for x in range(faulty_shard_size, shard_size + 1):\n",
    "        x_term = binom(faulty_size, x) * binom(total_size - faulty_size, shard_size - x)\n",
    "        y_term = 0\n",
    "        for y in range(faulty_shard_size, shard_size + 1):\n",
    "            y_term += binom(faulty_size - x, y) * binom(total_size - faulty_size - (shard_size - x), shard_size - y)\n",
    "        sum += x_term * y_term\n",
    "\n",
    "    return sum / binom(total_size, shard_size) / binom(total_size - shard_size, shard_size)\n",
    "\n",
    "def log_binom(n, k):\n",
    "    return gammaln(n + 1) - gammaln(k + 1) - gammaln(n - k + 1)\n",
    "\n",
    "def committee_fail_optimized(total_size, shard_size, total_faulty=1/3, shard_faulty=1/2):\n",
    "    log_sum = 0\n",
    "    faulty_shard_size = int(shard_size * shard_faulty)\n",
    "    faulty_size = int(total_size * total_faulty)\n",
    "\n",
    "    for x in range(faulty_shard_size, shard_size + 1):\n",
    "        log_term = log_binom(faulty_size, x) + log_binom(total_size - faulty_size, shard_size - x)\n",
    "        log_sum = np.logaddexp(log_sum, log_term) if log_sum else log_term\n",
    "\n",
    "    log_binom_total_shard = log_binom(total_size, shard_size)\n",
    "\n",
    "    prob = np.exp(log_sum - log_binom_total_shard)\n",
    "    return prob\n",
    "\n",
    "committee_fail_optimized(2000, 220), committee_fail(2000, 220)"
   ]
  },
  {
   "cell_type": "markdown",
   "metadata": {},
   "source": [
    "# Estimation on the shards's failure probability"
   ]
  },
  {
   "cell_type": "code",
   "execution_count": 3,
   "metadata": {},
   "outputs": [
    {
     "data": {
      "application/vnd.plotly.v1+json": {
       "config": {
        "plotlyServerURL": "https://plot.ly"
       },
       "data": [
        {
         "mode": "lines+markers",
         "name": "f=0.50",
         "type": "scatter",
         "x": [
          10,
          60,
          110,
          160,
          210,
          260,
          310,
          360,
          410,
          460,
          510,
          560,
          610,
          660,
          710,
          760,
          810,
          860
         ],
         "y": [
          0.21141295274376315,
          0.004287046522937008,
          0.00009096890534082225,
          0.0000013419382276226631,
          1.1838839094409014e-8,
          5.38127114276017e-11,
          1.0471166189811857e-13,
          6.786957974171864e-17,
          1.0228557597925526e-20,
          2.077838127425969e-25,
          2.337059574055948e-31,
          2.886790428314314e-39,
          1.1087814157149064e-50,
          1.6844416076994266e-71,
          0,
          0,
          0,
          0
         ]
        },
        {
         "mode": "lines+markers",
         "name": "f=0.43",
         "type": "scatter",
         "x": [
          10,
          60,
          110,
          160,
          210,
          260,
          310,
          360,
          410,
          460,
          510,
          560,
          610,
          660,
          710,
          760,
          810,
          860
         ],
         "y": [
          0.4398204129577836,
          0.061336607445544665,
          0.018304041688024776,
          0.0029986329258589466,
          0.00041208187197354015,
          0.00008189633355592015,
          0.000006794873754655122,
          3.798295972364655e-7,
          2.7468531555747815e-8,
          5.057099741395672e-10,
          3.738252072487007e-12,
          2.2393301900312204e-14,
          7.754849330034158e-18,
          1.1954882242841947e-22,
          3.9523825703937666e-29,
          4.40778474305655e-43,
          0,
          0
         ]
        },
        {
         "mode": "lines+markers",
         "name": "f=0.38",
         "type": "scatter",
         "x": [
          10,
          60,
          110,
          160,
          210,
          260,
          310,
          360,
          410,
          460,
          510,
          560,
          610,
          660,
          710,
          760,
          810,
          860
         ],
         "y": [
          0.7012530210989761,
          0.23622521248051415,
          0.1483018185505674,
          0.09394004639519955,
          0.0582650488520421,
          0.03475907377457065,
          0.019624525978014982,
          0.007063263208166277,
          0.0032835194734187074,
          0.0013359596975322837,
          0.00045495347254016793,
          0.00012137504791062865,
          0.00002288377739704331,
          0.0000025699110165890656,
          5.4139557055144136e-8,
          4.991345462911767e-10,
          1.846609619303031e-13,
          2.384685587101952e-21
         ]
        },
        {
         "mode": "lines+markers",
         "name": "f=0.33",
         "type": "scatter",
         "x": [
          10,
          60,
          110,
          160,
          210,
          260,
          310,
          360,
          410,
          460,
          510,
          560,
          610,
          660,
          710,
          760,
          810,
          860
         ],
         "y": [
          0.7012530210989761,
          0.548435098443379,
          0.5922537458186795,
          0.5540434181679302,
          0.5261146161866481,
          0.5640260294904571,
          0.540957954369006,
          0.5203110620611495,
          0.5553369102910037,
          0.5362300635180623,
          0.5177223356383353,
          0.5530387994216391,
          0.5351931074431902,
          0.516821822016676,
          0.5560226792109313,
          0.5380891892528508,
          0.518040753336372,
          0.5704961655956252
         ]
        }
       ],
       "layout": {
        "annotations": [
         {
          "showarrow": false,
          "text": "Millennium cluster",
          "x": 860,
          "y": -7,
          "yshift": -10
         },
         {
          "showarrow": false,
          "text": "Annual cluster",
          "x": 860,
          "y": -2.5228787452803374,
          "yshift": -10
         }
        ],
        "shapes": [
         {
          "line": {
           "color": "RoyalBlue",
           "dash": "dash",
           "width": 2
          },
          "name": "Millennium cluster",
          "type": "line",
          "x0": 10,
          "x1": 860,
          "y0": 1e-7,
          "y1": 1e-7
         },
         {
          "line": {
           "color": "Red",
           "dash": "dash",
           "width": 2
          },
          "name": "Annual cluster",
          "type": "line",
          "x0": 10,
          "x1": 860,
          "y0": 0.003,
          "y1": 0.003
         }
        ],
        "template": {
         "data": {
          "bar": [
           {
            "error_x": {
             "color": "#2a3f5f"
            },
            "error_y": {
             "color": "#2a3f5f"
            },
            "marker": {
             "line": {
              "color": "#E5ECF6",
              "width": 0.5
             },
             "pattern": {
              "fillmode": "overlay",
              "size": 10,
              "solidity": 0.2
             }
            },
            "type": "bar"
           }
          ],
          "barpolar": [
           {
            "marker": {
             "line": {
              "color": "#E5ECF6",
              "width": 0.5
             },
             "pattern": {
              "fillmode": "overlay",
              "size": 10,
              "solidity": 0.2
             }
            },
            "type": "barpolar"
           }
          ],
          "carpet": [
           {
            "aaxis": {
             "endlinecolor": "#2a3f5f",
             "gridcolor": "white",
             "linecolor": "white",
             "minorgridcolor": "white",
             "startlinecolor": "#2a3f5f"
            },
            "baxis": {
             "endlinecolor": "#2a3f5f",
             "gridcolor": "white",
             "linecolor": "white",
             "minorgridcolor": "white",
             "startlinecolor": "#2a3f5f"
            },
            "type": "carpet"
           }
          ],
          "choropleth": [
           {
            "colorbar": {
             "outlinewidth": 0,
             "ticks": ""
            },
            "type": "choropleth"
           }
          ],
          "contour": [
           {
            "colorbar": {
             "outlinewidth": 0,
             "ticks": ""
            },
            "colorscale": [
             [
              0,
              "#0d0887"
             ],
             [
              0.1111111111111111,
              "#46039f"
             ],
             [
              0.2222222222222222,
              "#7201a8"
             ],
             [
              0.3333333333333333,
              "#9c179e"
             ],
             [
              0.4444444444444444,
              "#bd3786"
             ],
             [
              0.5555555555555556,
              "#d8576b"
             ],
             [
              0.6666666666666666,
              "#ed7953"
             ],
             [
              0.7777777777777778,
              "#fb9f3a"
             ],
             [
              0.8888888888888888,
              "#fdca26"
             ],
             [
              1,
              "#f0f921"
             ]
            ],
            "type": "contour"
           }
          ],
          "contourcarpet": [
           {
            "colorbar": {
             "outlinewidth": 0,
             "ticks": ""
            },
            "type": "contourcarpet"
           }
          ],
          "heatmap": [
           {
            "colorbar": {
             "outlinewidth": 0,
             "ticks": ""
            },
            "colorscale": [
             [
              0,
              "#0d0887"
             ],
             [
              0.1111111111111111,
              "#46039f"
             ],
             [
              0.2222222222222222,
              "#7201a8"
             ],
             [
              0.3333333333333333,
              "#9c179e"
             ],
             [
              0.4444444444444444,
              "#bd3786"
             ],
             [
              0.5555555555555556,
              "#d8576b"
             ],
             [
              0.6666666666666666,
              "#ed7953"
             ],
             [
              0.7777777777777778,
              "#fb9f3a"
             ],
             [
              0.8888888888888888,
              "#fdca26"
             ],
             [
              1,
              "#f0f921"
             ]
            ],
            "type": "heatmap"
           }
          ],
          "heatmapgl": [
           {
            "colorbar": {
             "outlinewidth": 0,
             "ticks": ""
            },
            "colorscale": [
             [
              0,
              "#0d0887"
             ],
             [
              0.1111111111111111,
              "#46039f"
             ],
             [
              0.2222222222222222,
              "#7201a8"
             ],
             [
              0.3333333333333333,
              "#9c179e"
             ],
             [
              0.4444444444444444,
              "#bd3786"
             ],
             [
              0.5555555555555556,
              "#d8576b"
             ],
             [
              0.6666666666666666,
              "#ed7953"
             ],
             [
              0.7777777777777778,
              "#fb9f3a"
             ],
             [
              0.8888888888888888,
              "#fdca26"
             ],
             [
              1,
              "#f0f921"
             ]
            ],
            "type": "heatmapgl"
           }
          ],
          "histogram": [
           {
            "marker": {
             "pattern": {
              "fillmode": "overlay",
              "size": 10,
              "solidity": 0.2
             }
            },
            "type": "histogram"
           }
          ],
          "histogram2d": [
           {
            "colorbar": {
             "outlinewidth": 0,
             "ticks": ""
            },
            "colorscale": [
             [
              0,
              "#0d0887"
             ],
             [
              0.1111111111111111,
              "#46039f"
             ],
             [
              0.2222222222222222,
              "#7201a8"
             ],
             [
              0.3333333333333333,
              "#9c179e"
             ],
             [
              0.4444444444444444,
              "#bd3786"
             ],
             [
              0.5555555555555556,
              "#d8576b"
             ],
             [
              0.6666666666666666,
              "#ed7953"
             ],
             [
              0.7777777777777778,
              "#fb9f3a"
             ],
             [
              0.8888888888888888,
              "#fdca26"
             ],
             [
              1,
              "#f0f921"
             ]
            ],
            "type": "histogram2d"
           }
          ],
          "histogram2dcontour": [
           {
            "colorbar": {
             "outlinewidth": 0,
             "ticks": ""
            },
            "colorscale": [
             [
              0,
              "#0d0887"
             ],
             [
              0.1111111111111111,
              "#46039f"
             ],
             [
              0.2222222222222222,
              "#7201a8"
             ],
             [
              0.3333333333333333,
              "#9c179e"
             ],
             [
              0.4444444444444444,
              "#bd3786"
             ],
             [
              0.5555555555555556,
              "#d8576b"
             ],
             [
              0.6666666666666666,
              "#ed7953"
             ],
             [
              0.7777777777777778,
              "#fb9f3a"
             ],
             [
              0.8888888888888888,
              "#fdca26"
             ],
             [
              1,
              "#f0f921"
             ]
            ],
            "type": "histogram2dcontour"
           }
          ],
          "mesh3d": [
           {
            "colorbar": {
             "outlinewidth": 0,
             "ticks": ""
            },
            "type": "mesh3d"
           }
          ],
          "parcoords": [
           {
            "line": {
             "colorbar": {
              "outlinewidth": 0,
              "ticks": ""
             }
            },
            "type": "parcoords"
           }
          ],
          "pie": [
           {
            "automargin": true,
            "type": "pie"
           }
          ],
          "scatter": [
           {
            "fillpattern": {
             "fillmode": "overlay",
             "size": 10,
             "solidity": 0.2
            },
            "type": "scatter"
           }
          ],
          "scatter3d": [
           {
            "line": {
             "colorbar": {
              "outlinewidth": 0,
              "ticks": ""
             }
            },
            "marker": {
             "colorbar": {
              "outlinewidth": 0,
              "ticks": ""
             }
            },
            "type": "scatter3d"
           }
          ],
          "scattercarpet": [
           {
            "marker": {
             "colorbar": {
              "outlinewidth": 0,
              "ticks": ""
             }
            },
            "type": "scattercarpet"
           }
          ],
          "scattergeo": [
           {
            "marker": {
             "colorbar": {
              "outlinewidth": 0,
              "ticks": ""
             }
            },
            "type": "scattergeo"
           }
          ],
          "scattergl": [
           {
            "marker": {
             "colorbar": {
              "outlinewidth": 0,
              "ticks": ""
             }
            },
            "type": "scattergl"
           }
          ],
          "scattermapbox": [
           {
            "marker": {
             "colorbar": {
              "outlinewidth": 0,
              "ticks": ""
             }
            },
            "type": "scattermapbox"
           }
          ],
          "scatterpolar": [
           {
            "marker": {
             "colorbar": {
              "outlinewidth": 0,
              "ticks": ""
             }
            },
            "type": "scatterpolar"
           }
          ],
          "scatterpolargl": [
           {
            "marker": {
             "colorbar": {
              "outlinewidth": 0,
              "ticks": ""
             }
            },
            "type": "scatterpolargl"
           }
          ],
          "scatterternary": [
           {
            "marker": {
             "colorbar": {
              "outlinewidth": 0,
              "ticks": ""
             }
            },
            "type": "scatterternary"
           }
          ],
          "surface": [
           {
            "colorbar": {
             "outlinewidth": 0,
             "ticks": ""
            },
            "colorscale": [
             [
              0,
              "#0d0887"
             ],
             [
              0.1111111111111111,
              "#46039f"
             ],
             [
              0.2222222222222222,
              "#7201a8"
             ],
             [
              0.3333333333333333,
              "#9c179e"
             ],
             [
              0.4444444444444444,
              "#bd3786"
             ],
             [
              0.5555555555555556,
              "#d8576b"
             ],
             [
              0.6666666666666666,
              "#ed7953"
             ],
             [
              0.7777777777777778,
              "#fb9f3a"
             ],
             [
              0.8888888888888888,
              "#fdca26"
             ],
             [
              1,
              "#f0f921"
             ]
            ],
            "type": "surface"
           }
          ],
          "table": [
           {
            "cells": {
             "fill": {
              "color": "#EBF0F8"
             },
             "line": {
              "color": "white"
             }
            },
            "header": {
             "fill": {
              "color": "#C8D4E3"
             },
             "line": {
              "color": "white"
             }
            },
            "type": "table"
           }
          ]
         },
         "layout": {
          "annotationdefaults": {
           "arrowcolor": "#2a3f5f",
           "arrowhead": 0,
           "arrowwidth": 1
          },
          "autotypenumbers": "strict",
          "coloraxis": {
           "colorbar": {
            "outlinewidth": 0,
            "ticks": ""
           }
          },
          "colorscale": {
           "diverging": [
            [
             0,
             "#8e0152"
            ],
            [
             0.1,
             "#c51b7d"
            ],
            [
             0.2,
             "#de77ae"
            ],
            [
             0.3,
             "#f1b6da"
            ],
            [
             0.4,
             "#fde0ef"
            ],
            [
             0.5,
             "#f7f7f7"
            ],
            [
             0.6,
             "#e6f5d0"
            ],
            [
             0.7,
             "#b8e186"
            ],
            [
             0.8,
             "#7fbc41"
            ],
            [
             0.9,
             "#4d9221"
            ],
            [
             1,
             "#276419"
            ]
           ],
           "sequential": [
            [
             0,
             "#0d0887"
            ],
            [
             0.1111111111111111,
             "#46039f"
            ],
            [
             0.2222222222222222,
             "#7201a8"
            ],
            [
             0.3333333333333333,
             "#9c179e"
            ],
            [
             0.4444444444444444,
             "#bd3786"
            ],
            [
             0.5555555555555556,
             "#d8576b"
            ],
            [
             0.6666666666666666,
             "#ed7953"
            ],
            [
             0.7777777777777778,
             "#fb9f3a"
            ],
            [
             0.8888888888888888,
             "#fdca26"
            ],
            [
             1,
             "#f0f921"
            ]
           ],
           "sequentialminus": [
            [
             0,
             "#0d0887"
            ],
            [
             0.1111111111111111,
             "#46039f"
            ],
            [
             0.2222222222222222,
             "#7201a8"
            ],
            [
             0.3333333333333333,
             "#9c179e"
            ],
            [
             0.4444444444444444,
             "#bd3786"
            ],
            [
             0.5555555555555556,
             "#d8576b"
            ],
            [
             0.6666666666666666,
             "#ed7953"
            ],
            [
             0.7777777777777778,
             "#fb9f3a"
            ],
            [
             0.8888888888888888,
             "#fdca26"
            ],
            [
             1,
             "#f0f921"
            ]
           ]
          },
          "colorway": [
           "#636efa",
           "#EF553B",
           "#00cc96",
           "#ab63fa",
           "#FFA15A",
           "#19d3f3",
           "#FF6692",
           "#B6E880",
           "#FF97FF",
           "#FECB52"
          ],
          "font": {
           "color": "#2a3f5f"
          },
          "geo": {
           "bgcolor": "white",
           "lakecolor": "white",
           "landcolor": "#E5ECF6",
           "showlakes": true,
           "showland": true,
           "subunitcolor": "white"
          },
          "hoverlabel": {
           "align": "left"
          },
          "hovermode": "closest",
          "mapbox": {
           "style": "light"
          },
          "paper_bgcolor": "white",
          "plot_bgcolor": "#E5ECF6",
          "polar": {
           "angularaxis": {
            "gridcolor": "white",
            "linecolor": "white",
            "ticks": ""
           },
           "bgcolor": "#E5ECF6",
           "radialaxis": {
            "gridcolor": "white",
            "linecolor": "white",
            "ticks": ""
           }
          },
          "scene": {
           "xaxis": {
            "backgroundcolor": "#E5ECF6",
            "gridcolor": "white",
            "gridwidth": 2,
            "linecolor": "white",
            "showbackground": true,
            "ticks": "",
            "zerolinecolor": "white"
           },
           "yaxis": {
            "backgroundcolor": "#E5ECF6",
            "gridcolor": "white",
            "gridwidth": 2,
            "linecolor": "white",
            "showbackground": true,
            "ticks": "",
            "zerolinecolor": "white"
           },
           "zaxis": {
            "backgroundcolor": "#E5ECF6",
            "gridcolor": "white",
            "gridwidth": 2,
            "linecolor": "white",
            "showbackground": true,
            "ticks": "",
            "zerolinecolor": "white"
           }
          },
          "shapedefaults": {
           "line": {
            "color": "#2a3f5f"
           }
          },
          "ternary": {
           "aaxis": {
            "gridcolor": "white",
            "linecolor": "white",
            "ticks": ""
           },
           "baxis": {
            "gridcolor": "white",
            "linecolor": "white",
            "ticks": ""
           },
           "bgcolor": "#E5ECF6",
           "caxis": {
            "gridcolor": "white",
            "linecolor": "white",
            "ticks": ""
           }
          },
          "title": {
           "x": 0.05
          },
          "xaxis": {
           "automargin": true,
           "gridcolor": "white",
           "linecolor": "white",
           "ticks": "",
           "title": {
            "standoff": 15
           },
           "zerolinecolor": "white",
           "zerolinewidth": 2
          },
          "yaxis": {
           "automargin": true,
           "gridcolor": "white",
           "linecolor": "white",
           "ticks": "",
           "title": {
            "standoff": 15
           },
           "zerolinecolor": "white",
           "zerolinewidth": 2
          }
         }
        },
        "title": {
         "text": "Committee Failure Probability vs Shard Size, Total Size = 1000"
        },
        "xaxis": {
         "range": [
          10,
          860
         ],
         "title": {
          "text": "Shard Size"
         }
        },
        "yaxis": {
         "range": [
          -4,
          0
         ],
         "title": {
          "text": "Failure Probability"
         },
         "type": "log"
        }
       }
      }
     },
     "metadata": {},
     "output_type": "display_data"
    }
   ],
   "source": [
    "total_size = 1000\n",
    "shard_sizes = np.arange(10, 901, 50)\n",
    "shard_faulty_values = [1/2, 1/3 + 1/10, 1/3 + 1/20, 1/3]\n",
    "\n",
    "fig = go.Figure()\n",
    "\n",
    "for shard_faulty in shard_faulty_values:\n",
    "    fail_probs = [\n",
    "        committee_fail_optimized(total_size, shard_size, shard_faulty=shard_faulty, total_faulty=1/3) for shard_size in shard_sizes\n",
    "    ]\n",
    "    fig.add_trace(go.Scatter(x=shard_sizes,\n",
    "                             y=fail_probs,\n",
    "                             mode='lines+markers',\n",
    "                             name=f'f={shard_faulty:.2f}'))\n",
    "\n",
    "fig.update_layout(\n",
    "    title=f\"Committee Failure Probability vs Shard Size, Total Size = {total_size}\",\n",
    "    xaxis_title=\"Shard Size\",\n",
    "    yaxis_title=\"Failure Probability\",\n",
    "    yaxis_type=\"log\",\n",
    "    xaxis=dict(range=[min(shard_sizes), max(shard_sizes)]),\n",
    "    yaxis=dict(range=[np.log10(min(min(fail_probs), 1e-4)), 0])\n",
    ")\n",
    "\n",
    "fig.add_shape(type=\"line\", x0=min(shard_sizes), x1=max(shard_sizes), y0=1e-7, y1=1e-7,\n",
    "              line=dict(color=\"RoyalBlue\", width=2, dash=\"dash\"),\n",
    "              name=\"Millennium cluster\")\n",
    "\n",
    "fig.add_annotation(\n",
    "    x=max(shard_sizes), y=np.log10(1e-7),\n",
    "    text=\"Millennium cluster\",\n",
    "    showarrow=False,\n",
    "    yshift=-10\n",
    ")\n",
    "\n",
    "fig.add_shape(type=\"line\", x0=min(shard_sizes), x1=max(shard_sizes), y0=3e-3, y1=3e-3,\n",
    "              line=dict(color=\"Red\", width=2, dash=\"dash\"),\n",
    "              name=\"Annual cluster\")\n",
    "\n",
    "fig.add_annotation(\n",
    "    x=max(shard_sizes), y=np.log10(3e-3),\n",
    "    text=\"Annual cluster\",\n",
    "    showarrow=False,\n",
    "    yshift=-10\n",
    ")\n",
    "\n",
    "fig.show()"
   ]
  },
  {
   "cell_type": "markdown",
   "metadata": {},
   "source": [
    "# Estimation on the cluster's failure probability"
   ]
  },
  {
   "cell_type": "code",
   "execution_count": 9,
   "metadata": {},
   "outputs": [
    {
     "data": {
      "application/vnd.plotly.v1+json": {
       "config": {
        "plotlyServerURL": "https://plot.ly"
       },
       "data": [
        {
         "mode": "lines+markers",
         "name": "f = 0.50",
         "type": "scatter",
         "x": [
          10,
          60,
          110,
          160,
          210,
          260,
          310,
          360,
          410,
          460,
          510,
          560,
          610,
          660,
          710,
          760,
          810,
          860
         ],
         "y": [
          21.141295274376315,
          0.07287979088992913,
          0.0009096890534082225,
          0.000009393567593358642,
          5.919419547204507e-8,
          2.152508457104068e-10,
          4.188466475924743e-13,
          2.0360873922515592e-16,
          3.068567279377658e-20,
          6.233514382277906e-25,
          4.674119148111896e-31,
          5.773580856628628e-39,
          2.2175628314298127e-50,
          3.368883215398853e-71,
          0,
          0,
          0,
          0
         ]
        },
        {
         "mode": "lines+markers",
         "name": "f = 0.43",
         "type": "scatter",
         "x": [
          10,
          60,
          110,
          160,
          210,
          260,
          310,
          360,
          410,
          460,
          510,
          560,
          610,
          660,
          710,
          760,
          810,
          860
         ],
         "y": [
          43.98204129577836,
          1.0427223265742593,
          0.18304041688024775,
          0.020990430481012626,
          0.0020604093598677008,
          0.0003275853342236806,
          0.000027179495018620487,
          0.0000011394887917093964,
          8.240559466724344e-8,
          1.5171299224187017e-9,
          7.476504144974015e-12,
          4.478660380062441e-14,
          1.5509698660068316e-17,
          2.3909764485683894e-22,
          7.904765140787533e-29,
          8.8155694861131e-43,
          0,
          0
         ]
        },
        {
         "mode": "lines+markers",
         "name": "f = 0.38",
         "type": "scatter",
         "x": [
          10,
          60,
          110,
          160,
          210,
          260,
          310,
          360,
          410,
          460,
          510,
          560,
          610,
          660,
          710,
          760,
          810,
          860
         ],
         "y": [
          70.12530210989762,
          4.0158286121687405,
          1.4830181855056739,
          0.6575803247663968,
          0.2913252442602105,
          0.1390362950982826,
          0.07849810391205993,
          0.02118978962449883,
          0.009850558420256122,
          0.004007879092596851,
          0.0009099069450803359,
          0.0002427500958212573,
          0.00004576755479408662,
          0.000005139822033178131,
          1.0827911411028827e-7,
          9.982690925823534e-10,
          3.693219238606062e-13,
          4.769371174203904e-21
         ]
        },
        {
         "mode": "lines+markers",
         "name": "f = 0.33",
         "type": "scatter",
         "x": [
          10,
          60,
          110,
          160,
          210,
          260,
          310,
          360,
          410,
          460,
          510,
          560,
          610,
          660,
          710,
          760,
          810,
          860
         ],
         "y": [
          70.12530210989762,
          9.323396673537443,
          5.922537458186795,
          3.8783039271755118,
          2.6305730809332406,
          2.2561041179618284,
          2.163831817476024,
          1.5609331861834486,
          1.6660107308730112,
          1.608690190554187,
          1.0354446712766705,
          1.1060775988432783,
          1.0703862148863803,
          1.033643644033352,
          1.1120453584218626,
          1.0761783785057015,
          1.036081506672744,
          1.1409923311912504
         ]
        }
       ],
       "layout": {
        "annotations": [
         {
          "showarrow": false,
          "text": "Millennium cluster",
          "x": 860,
          "y": -7,
          "yshift": -10
         },
         {
          "showarrow": false,
          "text": "Annual cluster",
          "x": 860,
          "y": -2.5228787452803374,
          "yshift": -10
         }
        ],
        "shapes": [
         {
          "line": {
           "color": "RoyalBlue",
           "dash": "dash",
           "width": 2
          },
          "name": "Millennium cluster",
          "type": "line",
          "x0": 10,
          "x1": 860,
          "y0": 1e-7,
          "y1": 1e-7
         },
         {
          "line": {
           "color": "Red",
           "dash": "dash",
           "width": 2
          },
          "name": "Annual cluster",
          "type": "line",
          "x0": 10,
          "x1": 860,
          "y0": 0.003,
          "y1": 0.003
         }
        ],
        "template": {
         "data": {
          "bar": [
           {
            "error_x": {
             "color": "#2a3f5f"
            },
            "error_y": {
             "color": "#2a3f5f"
            },
            "marker": {
             "line": {
              "color": "#E5ECF6",
              "width": 0.5
             },
             "pattern": {
              "fillmode": "overlay",
              "size": 10,
              "solidity": 0.2
             }
            },
            "type": "bar"
           }
          ],
          "barpolar": [
           {
            "marker": {
             "line": {
              "color": "#E5ECF6",
              "width": 0.5
             },
             "pattern": {
              "fillmode": "overlay",
              "size": 10,
              "solidity": 0.2
             }
            },
            "type": "barpolar"
           }
          ],
          "carpet": [
           {
            "aaxis": {
             "endlinecolor": "#2a3f5f",
             "gridcolor": "white",
             "linecolor": "white",
             "minorgridcolor": "white",
             "startlinecolor": "#2a3f5f"
            },
            "baxis": {
             "endlinecolor": "#2a3f5f",
             "gridcolor": "white",
             "linecolor": "white",
             "minorgridcolor": "white",
             "startlinecolor": "#2a3f5f"
            },
            "type": "carpet"
           }
          ],
          "choropleth": [
           {
            "colorbar": {
             "outlinewidth": 0,
             "ticks": ""
            },
            "type": "choropleth"
           }
          ],
          "contour": [
           {
            "colorbar": {
             "outlinewidth": 0,
             "ticks": ""
            },
            "colorscale": [
             [
              0,
              "#0d0887"
             ],
             [
              0.1111111111111111,
              "#46039f"
             ],
             [
              0.2222222222222222,
              "#7201a8"
             ],
             [
              0.3333333333333333,
              "#9c179e"
             ],
             [
              0.4444444444444444,
              "#bd3786"
             ],
             [
              0.5555555555555556,
              "#d8576b"
             ],
             [
              0.6666666666666666,
              "#ed7953"
             ],
             [
              0.7777777777777778,
              "#fb9f3a"
             ],
             [
              0.8888888888888888,
              "#fdca26"
             ],
             [
              1,
              "#f0f921"
             ]
            ],
            "type": "contour"
           }
          ],
          "contourcarpet": [
           {
            "colorbar": {
             "outlinewidth": 0,
             "ticks": ""
            },
            "type": "contourcarpet"
           }
          ],
          "heatmap": [
           {
            "colorbar": {
             "outlinewidth": 0,
             "ticks": ""
            },
            "colorscale": [
             [
              0,
              "#0d0887"
             ],
             [
              0.1111111111111111,
              "#46039f"
             ],
             [
              0.2222222222222222,
              "#7201a8"
             ],
             [
              0.3333333333333333,
              "#9c179e"
             ],
             [
              0.4444444444444444,
              "#bd3786"
             ],
             [
              0.5555555555555556,
              "#d8576b"
             ],
             [
              0.6666666666666666,
              "#ed7953"
             ],
             [
              0.7777777777777778,
              "#fb9f3a"
             ],
             [
              0.8888888888888888,
              "#fdca26"
             ],
             [
              1,
              "#f0f921"
             ]
            ],
            "type": "heatmap"
           }
          ],
          "heatmapgl": [
           {
            "colorbar": {
             "outlinewidth": 0,
             "ticks": ""
            },
            "colorscale": [
             [
              0,
              "#0d0887"
             ],
             [
              0.1111111111111111,
              "#46039f"
             ],
             [
              0.2222222222222222,
              "#7201a8"
             ],
             [
              0.3333333333333333,
              "#9c179e"
             ],
             [
              0.4444444444444444,
              "#bd3786"
             ],
             [
              0.5555555555555556,
              "#d8576b"
             ],
             [
              0.6666666666666666,
              "#ed7953"
             ],
             [
              0.7777777777777778,
              "#fb9f3a"
             ],
             [
              0.8888888888888888,
              "#fdca26"
             ],
             [
              1,
              "#f0f921"
             ]
            ],
            "type": "heatmapgl"
           }
          ],
          "histogram": [
           {
            "marker": {
             "pattern": {
              "fillmode": "overlay",
              "size": 10,
              "solidity": 0.2
             }
            },
            "type": "histogram"
           }
          ],
          "histogram2d": [
           {
            "colorbar": {
             "outlinewidth": 0,
             "ticks": ""
            },
            "colorscale": [
             [
              0,
              "#0d0887"
             ],
             [
              0.1111111111111111,
              "#46039f"
             ],
             [
              0.2222222222222222,
              "#7201a8"
             ],
             [
              0.3333333333333333,
              "#9c179e"
             ],
             [
              0.4444444444444444,
              "#bd3786"
             ],
             [
              0.5555555555555556,
              "#d8576b"
             ],
             [
              0.6666666666666666,
              "#ed7953"
             ],
             [
              0.7777777777777778,
              "#fb9f3a"
             ],
             [
              0.8888888888888888,
              "#fdca26"
             ],
             [
              1,
              "#f0f921"
             ]
            ],
            "type": "histogram2d"
           }
          ],
          "histogram2dcontour": [
           {
            "colorbar": {
             "outlinewidth": 0,
             "ticks": ""
            },
            "colorscale": [
             [
              0,
              "#0d0887"
             ],
             [
              0.1111111111111111,
              "#46039f"
             ],
             [
              0.2222222222222222,
              "#7201a8"
             ],
             [
              0.3333333333333333,
              "#9c179e"
             ],
             [
              0.4444444444444444,
              "#bd3786"
             ],
             [
              0.5555555555555556,
              "#d8576b"
             ],
             [
              0.6666666666666666,
              "#ed7953"
             ],
             [
              0.7777777777777778,
              "#fb9f3a"
             ],
             [
              0.8888888888888888,
              "#fdca26"
             ],
             [
              1,
              "#f0f921"
             ]
            ],
            "type": "histogram2dcontour"
           }
          ],
          "mesh3d": [
           {
            "colorbar": {
             "outlinewidth": 0,
             "ticks": ""
            },
            "type": "mesh3d"
           }
          ],
          "parcoords": [
           {
            "line": {
             "colorbar": {
              "outlinewidth": 0,
              "ticks": ""
             }
            },
            "type": "parcoords"
           }
          ],
          "pie": [
           {
            "automargin": true,
            "type": "pie"
           }
          ],
          "scatter": [
           {
            "fillpattern": {
             "fillmode": "overlay",
             "size": 10,
             "solidity": 0.2
            },
            "type": "scatter"
           }
          ],
          "scatter3d": [
           {
            "line": {
             "colorbar": {
              "outlinewidth": 0,
              "ticks": ""
             }
            },
            "marker": {
             "colorbar": {
              "outlinewidth": 0,
              "ticks": ""
             }
            },
            "type": "scatter3d"
           }
          ],
          "scattercarpet": [
           {
            "marker": {
             "colorbar": {
              "outlinewidth": 0,
              "ticks": ""
             }
            },
            "type": "scattercarpet"
           }
          ],
          "scattergeo": [
           {
            "marker": {
             "colorbar": {
              "outlinewidth": 0,
              "ticks": ""
             }
            },
            "type": "scattergeo"
           }
          ],
          "scattergl": [
           {
            "marker": {
             "colorbar": {
              "outlinewidth": 0,
              "ticks": ""
             }
            },
            "type": "scattergl"
           }
          ],
          "scattermapbox": [
           {
            "marker": {
             "colorbar": {
              "outlinewidth": 0,
              "ticks": ""
             }
            },
            "type": "scattermapbox"
           }
          ],
          "scatterpolar": [
           {
            "marker": {
             "colorbar": {
              "outlinewidth": 0,
              "ticks": ""
             }
            },
            "type": "scatterpolar"
           }
          ],
          "scatterpolargl": [
           {
            "marker": {
             "colorbar": {
              "outlinewidth": 0,
              "ticks": ""
             }
            },
            "type": "scatterpolargl"
           }
          ],
          "scatterternary": [
           {
            "marker": {
             "colorbar": {
              "outlinewidth": 0,
              "ticks": ""
             }
            },
            "type": "scatterternary"
           }
          ],
          "surface": [
           {
            "colorbar": {
             "outlinewidth": 0,
             "ticks": ""
            },
            "colorscale": [
             [
              0,
              "#0d0887"
             ],
             [
              0.1111111111111111,
              "#46039f"
             ],
             [
              0.2222222222222222,
              "#7201a8"
             ],
             [
              0.3333333333333333,
              "#9c179e"
             ],
             [
              0.4444444444444444,
              "#bd3786"
             ],
             [
              0.5555555555555556,
              "#d8576b"
             ],
             [
              0.6666666666666666,
              "#ed7953"
             ],
             [
              0.7777777777777778,
              "#fb9f3a"
             ],
             [
              0.8888888888888888,
              "#fdca26"
             ],
             [
              1,
              "#f0f921"
             ]
            ],
            "type": "surface"
           }
          ],
          "table": [
           {
            "cells": {
             "fill": {
              "color": "#EBF0F8"
             },
             "line": {
              "color": "white"
             }
            },
            "header": {
             "fill": {
              "color": "#C8D4E3"
             },
             "line": {
              "color": "white"
             }
            },
            "type": "table"
           }
          ]
         },
         "layout": {
          "annotationdefaults": {
           "arrowcolor": "#2a3f5f",
           "arrowhead": 0,
           "arrowwidth": 1
          },
          "autotypenumbers": "strict",
          "coloraxis": {
           "colorbar": {
            "outlinewidth": 0,
            "ticks": ""
           }
          },
          "colorscale": {
           "diverging": [
            [
             0,
             "#8e0152"
            ],
            [
             0.1,
             "#c51b7d"
            ],
            [
             0.2,
             "#de77ae"
            ],
            [
             0.3,
             "#f1b6da"
            ],
            [
             0.4,
             "#fde0ef"
            ],
            [
             0.5,
             "#f7f7f7"
            ],
            [
             0.6,
             "#e6f5d0"
            ],
            [
             0.7,
             "#b8e186"
            ],
            [
             0.8,
             "#7fbc41"
            ],
            [
             0.9,
             "#4d9221"
            ],
            [
             1,
             "#276419"
            ]
           ],
           "sequential": [
            [
             0,
             "#0d0887"
            ],
            [
             0.1111111111111111,
             "#46039f"
            ],
            [
             0.2222222222222222,
             "#7201a8"
            ],
            [
             0.3333333333333333,
             "#9c179e"
            ],
            [
             0.4444444444444444,
             "#bd3786"
            ],
            [
             0.5555555555555556,
             "#d8576b"
            ],
            [
             0.6666666666666666,
             "#ed7953"
            ],
            [
             0.7777777777777778,
             "#fb9f3a"
            ],
            [
             0.8888888888888888,
             "#fdca26"
            ],
            [
             1,
             "#f0f921"
            ]
           ],
           "sequentialminus": [
            [
             0,
             "#0d0887"
            ],
            [
             0.1111111111111111,
             "#46039f"
            ],
            [
             0.2222222222222222,
             "#7201a8"
            ],
            [
             0.3333333333333333,
             "#9c179e"
            ],
            [
             0.4444444444444444,
             "#bd3786"
            ],
            [
             0.5555555555555556,
             "#d8576b"
            ],
            [
             0.6666666666666666,
             "#ed7953"
            ],
            [
             0.7777777777777778,
             "#fb9f3a"
            ],
            [
             0.8888888888888888,
             "#fdca26"
            ],
            [
             1,
             "#f0f921"
            ]
           ]
          },
          "colorway": [
           "#636efa",
           "#EF553B",
           "#00cc96",
           "#ab63fa",
           "#FFA15A",
           "#19d3f3",
           "#FF6692",
           "#B6E880",
           "#FF97FF",
           "#FECB52"
          ],
          "font": {
           "color": "#2a3f5f"
          },
          "geo": {
           "bgcolor": "white",
           "lakecolor": "white",
           "landcolor": "#E5ECF6",
           "showlakes": true,
           "showland": true,
           "subunitcolor": "white"
          },
          "hoverlabel": {
           "align": "left"
          },
          "hovermode": "closest",
          "mapbox": {
           "style": "light"
          },
          "paper_bgcolor": "white",
          "plot_bgcolor": "#E5ECF6",
          "polar": {
           "angularaxis": {
            "gridcolor": "white",
            "linecolor": "white",
            "ticks": ""
           },
           "bgcolor": "#E5ECF6",
           "radialaxis": {
            "gridcolor": "white",
            "linecolor": "white",
            "ticks": ""
           }
          },
          "scene": {
           "xaxis": {
            "backgroundcolor": "#E5ECF6",
            "gridcolor": "white",
            "gridwidth": 2,
            "linecolor": "white",
            "showbackground": true,
            "ticks": "",
            "zerolinecolor": "white"
           },
           "yaxis": {
            "backgroundcolor": "#E5ECF6",
            "gridcolor": "white",
            "gridwidth": 2,
            "linecolor": "white",
            "showbackground": true,
            "ticks": "",
            "zerolinecolor": "white"
           },
           "zaxis": {
            "backgroundcolor": "#E5ECF6",
            "gridcolor": "white",
            "gridwidth": 2,
            "linecolor": "white",
            "showbackground": true,
            "ticks": "",
            "zerolinecolor": "white"
           }
          },
          "shapedefaults": {
           "line": {
            "color": "#2a3f5f"
           }
          },
          "ternary": {
           "aaxis": {
            "gridcolor": "white",
            "linecolor": "white",
            "ticks": ""
           },
           "baxis": {
            "gridcolor": "white",
            "linecolor": "white",
            "ticks": ""
           },
           "bgcolor": "#E5ECF6",
           "caxis": {
            "gridcolor": "white",
            "linecolor": "white",
            "ticks": ""
           }
          },
          "title": {
           "x": 0.05
          },
          "xaxis": {
           "automargin": true,
           "gridcolor": "white",
           "linecolor": "white",
           "ticks": "",
           "title": {
            "standoff": 15
           },
           "zerolinecolor": "white",
           "zerolinewidth": 2
          },
          "yaxis": {
           "automargin": true,
           "gridcolor": "white",
           "linecolor": "white",
           "ticks": "",
           "title": {
            "standoff": 15
           },
           "zerolinecolor": "white",
           "zerolinewidth": 2
          }
         }
        },
        "title": {
         "text": "Upper estimate on the cluster Failure Probability vs Shard Size, Total Size = 1000"
        },
        "xaxis": {
         "range": [
          10,
          860
         ],
         "title": {
          "text": "Shard Size"
         }
        },
        "yaxis": {
         "range": [
          -4,
          0
         ],
         "title": {
          "text": "Failure Probability"
         },
         "type": "log"
        }
       }
      }
     },
     "metadata": {},
     "output_type": "display_data"
    }
   ],
   "source": [
    "total_size = 1000\n",
    "shard_sizes = np.arange(10, 901, 50)\n",
    "shard_faulty_values = [1/2, 1/3 + 1/10, 1/3 + 1/20, 1/3]\n",
    "\n",
    "fig = go.Figure()\n",
    "\n",
    "for shard_faulty in shard_faulty_values:\n",
    "    fail_probs = [\n",
    "        committee_fail_optimized(total_size, shard_size, shard_faulty=shard_faulty, total_faulty=1/3) for shard_size in shard_sizes\n",
    "    ]\n",
    "    fig.add_trace(go.Scatter(\n",
    "        # x=shard_sizes, y=[1 - (1 - fail_prob) ** (total_size / shard_size)\n",
    "        x=shard_sizes, y=[math.ceil(total_size / shard_size) * fail_prob\n",
    "                          for shard_size, fail_prob in zip(shard_sizes, fail_probs)],\n",
    "        mode='lines+markers', name=f'f = {shard_faulty:.2f}'\n",
    "    ))\n",
    "\n",
    "fig.update_layout(\n",
    "    title=f\"Upper estimate on the cluster Failure Probability vs Shard Size, Total Size = {total_size}\",\n",
    "    xaxis_title=\"Shard Size\",\n",
    "    yaxis_title=\"Failure Probability\",\n",
    "    yaxis_type=\"log\",\n",
    "    xaxis=dict(range=[min(shard_sizes), max(shard_sizes)]),\n",
    "    yaxis=dict(range=[np.log10(min(min(fail_probs), 1e-4)), 0])\n",
    ")\n",
    "\n",
    "fig.add_shape(type=\"line\", x0=min(shard_sizes), x1=max(shard_sizes), y0=1e-7, y1=1e-7,\n",
    "                line=dict(color=\"RoyalBlue\", width=2, dash=\"dash\"),\n",
    "                name=\"Millennium cluster\")\n",
    "\n",
    "fig.add_annotation(\n",
    "    x=max(shard_sizes), y=np.log10(1e-7),\n",
    "    text=\"Millennium cluster\",\n",
    "    showarrow=False,\n",
    "    yshift=-10\n",
    ")\n",
    "\n",
    "fig.add_shape(type=\"line\", x0=min(shard_sizes), x1=max(shard_sizes), y0=3e-3, y1=3e-3,\n",
    "                line=dict(color=\"Red\", width=2, dash=\"dash\"),\n",
    "                name=\"Annual cluster\")\n",
    "\n",
    "fig.add_annotation(\n",
    "    x=max(shard_sizes), y=np.log10(3e-3),\n",
    "    text=\"Annual cluster\",\n",
    "    showarrow=False,\n",
    "    yshift=-10\n",
    ")\n",
    "\n",
    "\n",
    "fig.show()        "
   ]
  },
  {
   "cell_type": "markdown",
   "metadata": {},
   "source": [
    "# Several shards are failing at the same time"
   ]
  },
  {
   "cell_type": "markdown",
   "metadata": {},
   "source": [
    "Probability of 2 particular shards failing at the same time:\n",
    "$$\n",
    "\\mathbb{P}\\bigl(\\text{2 particular shards fail}\\bigr) = \n",
    "\\frac{1}{\\binom{N}{n}\\,\\binom{N - n}{n}}\n",
    "\\sum_{x=\\lceil n \\cdot f \\rceil}^n\n",
    "\\sum_{y=\\lceil n \\cdot f \\rceil}^n\n",
    "\\binom{t}{x}\\,\\binom{N - t}{n - x}\n",
    "\\binom{t - x}{y}\\,\\binom{(N - t) - (n - x)}{\\,n - y}\n",
    "$$"
   ]
  },
  {
   "cell_type": "markdown",
   "metadata": {},
   "source": [
    "In general, we have the following inequality:\n",
    "$$\n",
    "\\mathbb{P}\\left(\\text{k particular shards fail}\\right) < \\mathbb{P}\\left(\\text{one shard fails}\\right)^k\n",
    "$$\n",
    "Sketch of the proof:\n",
    "- Initially, we have $N$ nodes and $t$ faulty nodes, so the probability of picking a faulty node is $F = t/N$.\n",
    "- After forming the first malicious shard, we have $N - n$ nodes and $t - X$ faulty nodes, where $X \\in [\\lceil n \\cdot f \\rceil, n]$.\n",
    "- The probability of picking a faulty node is $F' \\coloneqq (t - X)/(N - n)$.\n",
    "- Under our assumption, that $f > F$, we have $F' < F$.\n",
    "- That means that the probability of picking a faulty node will decrease with each **malicious** shard formed."
   ]
  },
  {
   "cell_type": "code",
   "execution_count": 5,
   "metadata": {},
   "outputs": [
    {
     "data": {
      "image/png": "[encoded data removed]",
      "text/plain": [
       "<Figure size 640x480 with 1 Axes>"
      ]
     },
     "metadata": {},
     "output_type": "display_data"
    }
   ],
   "source": [
    "total_size = 1000\n",
    "shard_sizes = np.arange(1, int(total_size/10) + 1)\n",
    "probabilities = {'p': [], 'p^2': [], 'p_2': [], 'relative': []}\n",
    "for shard_size in shard_sizes:\n",
    "    probabilities['p'].append(committee_fail(total_size, shard_size))\n",
    "    probabilities['p^2'].append(committee_fail_optimized(total_size, shard_size)**2)\n",
    "    probabilities['p_2'].append(two_committee_fail(total_size, shard_size))\n",
    "    probabilities['relative'].append((probabilities['p^2'][-1] - probabilities['p_2'][-1]) / probabilities['p^2'][-1])\n",
    "plt.figure()\n",
    "plt.plot(shard_sizes, probabilities['relative'], label='relative error')\n",
    "plt.xlabel('shard size')\n",
    "plt.ylabel('relative error')\n",
    "plt.title('Relative error of two committee failure probability with respect to the p^2')\n",
    "plt.show()"
   ]
  },
  {
   "cell_type": "markdown",
   "metadata": {},
   "source": [
    "# Birthday paradox collision probability"
   ]
  },
  {
   "cell_type": "code",
   "execution_count": 6,
   "metadata": {},
   "outputs": [],
   "source": [
    "total = 2**80 * 1.0\n",
    "\n",
    "def proba_approx(n, d):\n",
    "    # probability of a collision\n",
    "    return 1 - np.exp(-n**2 / 2 / d)"
   ]
  },
  {
   "cell_type": "code",
   "execution_count": 7,
   "metadata": {},
   "outputs": [
    {
     "data": {
      "application/vnd.plotly.v1+json": {
       "config": {
        "plotlyServerURL": "https://plot.ly"
       },
       "data": [
        {
         "mode": "lines+markers",
         "type": "scatter",
         "x": [
          100000,
          1000000,
          10000000,
          100000000,
          1000000000,
          10000000000,
          100000000000,
          1000000000000,
          10000000000000
         ],
         "y": [
          4.107825191113079e-15,
          4.135580766728708e-13,
          4.1359027314058494e-11,
          4.135903064472757e-9,
          4.135902207380582e-7,
          0.00004135817535477759,
          0.004127361994759826,
          0.33872818531140214,
          1
         ]
        }
       ],
       "layout": {
        "template": {
         "data": {
          "bar": [
           {
            "error_x": {
             "color": "#2a3f5f"
            },
            "error_y": {
             "color": "#2a3f5f"
            },
            "marker": {
             "line": {
              "color": "#E5ECF6",
              "width": 0.5
             },
             "pattern": {
              "fillmode": "overlay",
              "size": 10,
              "solidity": 0.2
             }
            },
            "type": "bar"
           }
          ],
          "barpolar": [
           {
            "marker": {
             "line": {
              "color": "#E5ECF6",
              "width": 0.5
             },
             "pattern": {
              "fillmode": "overlay",
              "size": 10,
              "solidity": 0.2
             }
            },
            "type": "barpolar"
           }
          ],
          "carpet": [
           {
            "aaxis": {
             "endlinecolor": "#2a3f5f",
             "gridcolor": "white",
             "linecolor": "white",
             "minorgridcolor": "white",
             "startlinecolor": "#2a3f5f"
            },
            "baxis": {
             "endlinecolor": "#2a3f5f",
             "gridcolor": "white",
             "linecolor": "white",
             "minorgridcolor": "white",
             "startlinecolor": "#2a3f5f"
            },
            "type": "carpet"
           }
          ],
          "choropleth": [
           {
            "colorbar": {
             "outlinewidth": 0,
             "ticks": ""
            },
            "type": "choropleth"
           }
          ],
          "contour": [
           {
            "colorbar": {
             "outlinewidth": 0,
             "ticks": ""
            },
            "colorscale": [
             [
              0,
              "#0d0887"
             ],
             [
              0.1111111111111111,
              "#46039f"
             ],
             [
              0.2222222222222222,
              "#7201a8"
             ],
             [
              0.3333333333333333,
              "#9c179e"
             ],
             [
              0.4444444444444444,
              "#bd3786"
             ],
             [
              0.5555555555555556,
              "#d8576b"
             ],
             [
              0.6666666666666666,
              "#ed7953"
             ],
             [
              0.7777777777777778,
              "#fb9f3a"
             ],
             [
              0.8888888888888888,
              "#fdca26"
             ],
             [
              1,
              "#f0f921"
             ]
            ],
            "type": "contour"
           }
          ],
          "contourcarpet": [
           {
            "colorbar": {
             "outlinewidth": 0,
             "ticks": ""
            },
            "type": "contourcarpet"
           }
          ],
          "heatmap": [
           {
            "colorbar": {
             "outlinewidth": 0,
             "ticks": ""
            },
            "colorscale": [
             [
              0,
              "#0d0887"
             ],
             [
              0.1111111111111111,
              "#46039f"
             ],
             [
              0.2222222222222222,
              "#7201a8"
             ],
             [
              0.3333333333333333,
              "#9c179e"
             ],
             [
              0.4444444444444444,
              "#bd3786"
             ],
             [
              0.5555555555555556,
              "#d8576b"
             ],
             [
              0.6666666666666666,
              "#ed7953"
             ],
             [
              0.7777777777777778,
              "#fb9f3a"
             ],
             [
              0.8888888888888888,
              "#fdca26"
             ],
             [
              1,
              "#f0f921"
             ]
            ],
            "type": "heatmap"
           }
          ],
          "heatmapgl": [
           {
            "colorbar": {
             "outlinewidth": 0,
             "ticks": ""
            },
            "colorscale": [
             [
              0,
              "#0d0887"
             ],
             [
              0.1111111111111111,
              "#46039f"
             ],
             [
              0.2222222222222222,
              "#7201a8"
             ],
             [
              0.3333333333333333,
              "#9c179e"
             ],
             [
              0.4444444444444444,
              "#bd3786"
             ],
             [
              0.5555555555555556,
              "#d8576b"
             ],
             [
              0.6666666666666666,
              "#ed7953"
             ],
             [
              0.7777777777777778,
              "#fb9f3a"
             ],
             [
              0.8888888888888888,
              "#fdca26"
             ],
             [
              1,
              "#f0f921"
             ]
            ],
            "type": "heatmapgl"
           }
          ],
          "histogram": [
           {
            "marker": {
             "pattern": {
              "fillmode": "overlay",
              "size": 10,
              "solidity": 0.2
             }
            },
            "type": "histogram"
           }
          ],
          "histogram2d": [
           {
            "colorbar": {
             "outlinewidth": 0,
             "ticks": ""
            },
            "colorscale": [
             [
              0,
              "#0d0887"
             ],
             [
              0.1111111111111111,
              "#46039f"
             ],
             [
              0.2222222222222222,
              "#7201a8"
             ],
             [
              0.3333333333333333,
              "#9c179e"
             ],
             [
              0.4444444444444444,
              "#bd3786"
             ],
             [
              0.5555555555555556,
              "#d8576b"
             ],
             [
              0.6666666666666666,
              "#ed7953"
             ],
             [
              0.7777777777777778,
              "#fb9f3a"
             ],
             [
              0.8888888888888888,
              "#fdca26"
             ],
             [
              1,
              "#f0f921"
             ]
            ],
            "type": "histogram2d"
           }
          ],
          "histogram2dcontour": [
           {
            "colorbar": {
             "outlinewidth": 0,
             "ticks": ""
            },
            "colorscale": [
             [
              0,
              "#0d0887"
             ],
             [
              0.1111111111111111,
              "#46039f"
             ],
             [
              0.2222222222222222,
              "#7201a8"
             ],
             [
              0.3333333333333333,
              "#9c179e"
             ],
             [
              0.4444444444444444,
              "#bd3786"
             ],
             [
              0.5555555555555556,
              "#d8576b"
             ],
             [
              0.6666666666666666,
              "#ed7953"
             ],
             [
              0.7777777777777778,
              "#fb9f3a"
             ],
             [
              0.8888888888888888,
              "#fdca26"
             ],
             [
              1,
              "#f0f921"
             ]
            ],
            "type": "histogram2dcontour"
           }
          ],
          "mesh3d": [
           {
            "colorbar": {
             "outlinewidth": 0,
             "ticks": ""
            },
            "type": "mesh3d"
           }
          ],
          "parcoords": [
           {
            "line": {
             "colorbar": {
              "outlinewidth": 0,
              "ticks": ""
             }
            },
            "type": "parcoords"
           }
          ],
          "pie": [
           {
            "automargin": true,
            "type": "pie"
           }
          ],
          "scatter": [
           {
            "fillpattern": {
             "fillmode": "overlay",
             "size": 10,
             "solidity": 0.2
            },
            "type": "scatter"
           }
          ],
          "scatter3d": [
           {
            "line": {
             "colorbar": {
              "outlinewidth": 0,
              "ticks": ""
             }
            },
            "marker": {
             "colorbar": {
              "outlinewidth": 0,
              "ticks": ""
             }
            },
            "type": "scatter3d"
           }
          ],
          "scattercarpet": [
           {
            "marker": {
             "colorbar": {
              "outlinewidth": 0,
              "ticks": ""
             }
            },
            "type": "scattercarpet"
           }
          ],
          "scattergeo": [
           {
            "marker": {
             "colorbar": {
              "outlinewidth": 0,
              "ticks": ""
             }
            },
            "type": "scattergeo"
           }
          ],
          "scattergl": [
           {
            "marker": {
             "colorbar": {
              "outlinewidth": 0,
              "ticks": ""
             }
            },
            "type": "scattergl"
           }
          ],
          "scattermapbox": [
           {
            "marker": {
             "colorbar": {
              "outlinewidth": 0,
              "ticks": ""
             }
            },
            "type": "scattermapbox"
           }
          ],
          "scatterpolar": [
           {
            "marker": {
             "colorbar": {
              "outlinewidth": 0,
              "ticks": ""
             }
            },
            "type": "scatterpolar"
           }
          ],
          "scatterpolargl": [
           {
            "marker": {
             "colorbar": {
              "outlinewidth": 0,
              "ticks": ""
             }
            },
            "type": "scatterpolargl"
           }
          ],
          "scatterternary": [
           {
            "marker": {
             "colorbar": {
              "outlinewidth": 0,
              "ticks": ""
             }
            },
            "type": "scatterternary"
           }
          ],
          "surface": [
           {
            "colorbar": {
             "outlinewidth": 0,
             "ticks": ""
            },
            "colorscale": [
             [
              0,
              "#0d0887"
             ],
             [
              0.1111111111111111,
              "#46039f"
             ],
             [
              0.2222222222222222,
              "#7201a8"
             ],
             [
              0.3333333333333333,
              "#9c179e"
             ],
             [
              0.4444444444444444,
              "#bd3786"
             ],
             [
              0.5555555555555556,
              "#d8576b"
             ],
             [
              0.6666666666666666,
              "#ed7953"
             ],
             [
              0.7777777777777778,
              "#fb9f3a"
             ],
             [
              0.8888888888888888,
              "#fdca26"
             ],
             [
              1,
              "#f0f921"
             ]
            ],
            "type": "surface"
           }
          ],
          "table": [
           {
            "cells": {
             "fill": {
              "color": "#EBF0F8"
             },
             "line": {
              "color": "white"
             }
            },
            "header": {
             "fill": {
              "color": "#C8D4E3"
             },
             "line": {
              "color": "white"
             }
            },
            "type": "table"
           }
          ]
         },
         "layout": {
          "annotationdefaults": {
           "arrowcolor": "#2a3f5f",
           "arrowhead": 0,
           "arrowwidth": 1
          },
          "autotypenumbers": "strict",
          "coloraxis": {
           "colorbar": {
            "outlinewidth": 0,
            "ticks": ""
           }
          },
          "colorscale": {
           "diverging": [
            [
             0,
             "#8e0152"
            ],
            [
             0.1,
             "#c51b7d"
            ],
            [
             0.2,
             "#de77ae"
            ],
            [
             0.3,
             "#f1b6da"
            ],
            [
             0.4,
             "#fde0ef"
            ],
            [
             0.5,
             "#f7f7f7"
            ],
            [
             0.6,
             "#e6f5d0"
            ],
            [
             0.7,
             "#b8e186"
            ],
            [
             0.8,
             "#7fbc41"
            ],
            [
             0.9,
             "#4d9221"
            ],
            [
             1,
             "#276419"
            ]
           ],
           "sequential": [
            [
             0,
             "#0d0887"
            ],
            [
             0.1111111111111111,
             "#46039f"
            ],
            [
             0.2222222222222222,
             "#7201a8"
            ],
            [
             0.3333333333333333,
             "#9c179e"
            ],
            [
             0.4444444444444444,
             "#bd3786"
            ],
            [
             0.5555555555555556,
             "#d8576b"
            ],
            [
             0.6666666666666666,
             "#ed7953"
            ],
            [
             0.7777777777777778,
             "#fb9f3a"
            ],
            [
             0.8888888888888888,
             "#fdca26"
            ],
            [
             1,
             "#f0f921"
            ]
           ],
           "sequentialminus": [
            [
             0,
             "#0d0887"
            ],
            [
             0.1111111111111111,
             "#46039f"
            ],
            [
             0.2222222222222222,
             "#7201a8"
            ],
            [
             0.3333333333333333,
             "#9c179e"
            ],
            [
             0.4444444444444444,
             "#bd3786"
            ],
            [
             0.5555555555555556,
             "#d8576b"
            ],
            [
             0.6666666666666666,
             "#ed7953"
            ],
            [
             0.7777777777777778,
             "#fb9f3a"
            ],
            [
             0.8888888888888888,
             "#fdca26"
            ],
            [
             1,
             "#f0f921"
            ]
           ]
          },
          "colorway": [
           "#636efa",
           "#EF553B",
           "#00cc96",
           "#ab63fa",
           "#FFA15A",
           "#19d3f3",
           "#FF6692",
           "#B6E880",
           "#FF97FF",
           "#FECB52"
          ],
          "font": {
           "color": "#2a3f5f"
          },
          "geo": {
           "bgcolor": "white",
           "lakecolor": "white",
           "landcolor": "#E5ECF6",
           "showlakes": true,
           "showland": true,
           "subunitcolor": "white"
          },
          "hoverlabel": {
           "align": "left"
          },
          "hovermode": "closest",
          "mapbox": {
           "style": "light"
          },
          "paper_bgcolor": "white",
          "plot_bgcolor": "#E5ECF6",
          "polar": {
           "angularaxis": {
            "gridcolor": "white",
            "linecolor": "white",
            "ticks": ""
           },
           "bgcolor": "#E5ECF6",
           "radialaxis": {
            "gridcolor": "white",
            "linecolor": "white",
            "ticks": ""
           }
          },
          "scene": {
           "xaxis": {
            "backgroundcolor": "#E5ECF6",
            "gridcolor": "white",
            "gridwidth": 2,
            "linecolor": "white",
            "showbackground": true,
            "ticks": "",
            "zerolinecolor": "white"
           },
           "yaxis": {
            "backgroundcolor": "#E5ECF6",
            "gridcolor": "white",
            "gridwidth": 2,
            "linecolor": "white",
            "showbackground": true,
            "ticks": "",
            "zerolinecolor": "white"
           },
           "zaxis": {
            "backgroundcolor": "#E5ECF6",
            "gridcolor": "white",
            "gridwidth": 2,
            "linecolor": "white",
            "showbackground": true,
            "ticks": "",
            "zerolinecolor": "white"
           }
          },
          "shapedefaults": {
           "line": {
            "color": "#2a3f5f"
           }
          },
          "ternary": {
           "aaxis": {
            "gridcolor": "white",
            "linecolor": "white",
            "ticks": ""
           },
           "baxis": {
            "gridcolor": "white",
            "linecolor": "white",
            "ticks": ""
           },
           "bgcolor": "#E5ECF6",
           "caxis": {
            "gridcolor": "white",
            "linecolor": "white",
            "ticks": ""
           }
          },
          "title": {
           "x": 0.05
          },
          "xaxis": {
           "automargin": true,
           "gridcolor": "white",
           "linecolor": "white",
           "ticks": "",
           "title": {
            "standoff": 15
           },
           "zerolinecolor": "white",
           "zerolinewidth": 2
          },
          "yaxis": {
           "automargin": true,
           "gridcolor": "white",
           "linecolor": "white",
           "ticks": "",
           "title": {
            "standoff": 15
           },
           "zerolinecolor": "white",
           "zerolinewidth": 2
          }
         }
        },
        "title": {
         "text": "Probability of a collision in a 80-bit space"
        },
        "xaxis": {
         "title": {
          "text": "Number of accounts"
         },
         "type": "log"
        },
        "yaxis": {
         "title": {
          "text": "Probability of a collision"
         },
         "type": "log"
        }
       }
      }
     },
     "metadata": {},
     "output_type": "display_data"
    }
   ],
   "source": [
    "num_accounts = [10**i for i in range(5, 14)]\n",
    "proba = [proba_approx(n, total) for n in num_accounts]\n",
    "\n",
    "# plot the results in log log scale\n",
    "fig = go.Figure()\n",
    "\n",
    "fig.add_trace(go.Scatter(x=num_accounts, y=proba, mode='lines+markers'))\n",
    "\n",
    "fig.update_layout(\n",
    "    title=\"Probability of a collision in a 80-bit space\",\n",
    "    xaxis_title=\"Number of accounts\",\n",
    "    yaxis_title=\"Probability of a collision\",\n",
    "    xaxis_type=\"log\",\n",
    "    yaxis_type=\"log\"\n",
    ")\n",
    "\n",
    "fig.show()\n"
   ]
  }
 ],
 "metadata": {
  "kernelspec": {
   "display_name": "base",
   "language": "python",
   "name": "python3"
  },
  "language_info": {
   "codemirror_mode": {
    "name": "ipython",
    "version": 3
   },
   "file_extension": ".py",
   "mimetype": "text/x-python",
   "name": "python",
   "nbconvert_exporter": "python",
   "pygments_lexer": "ipython3",
   "version": "3.11.7"
  }
 },
 "nbformat": 4,
 "nbformat_minor": 2
}
